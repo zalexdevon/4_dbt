{
 "cells": [
  {
   "cell_type": "code",
   "execution_count": null,
   "id": "27807f04",
   "metadata": {},
   "outputs": [
    {
     "name": "stdout",
     "output_type": "stream",
     "text": [
      "<class 'pandas.core.frame.DataFrame'>\n",
      "RangeIndex: 672105 entries, 0 to 672104\n",
      "Data columns (total 20 columns):\n",
      " #   Column                 Non-Null Count   Dtype  \n",
      "---  ------                 --------------   -----  \n",
      " 0   VendorID               672105 non-null  int64  \n",
      " 1   lpep_pickup_datetime   672105 non-null  object \n",
      " 2   lpep_dropoff_datetime  672105 non-null  object \n",
      " 3   store_and_fwd_flag     630526 non-null  object \n",
      " 4   RatecodeID             630526 non-null  float64\n",
      " 5   PULocationID           672105 non-null  int64  \n",
      " 6   DOLocationID           672105 non-null  int64  \n",
      " 7   passenger_count        630526 non-null  float64\n",
      " 8   trip_distance          672105 non-null  float64\n",
      " 9   fare_amount            672105 non-null  float64\n",
      " 10  extra                  672105 non-null  float64\n",
      " 11  mta_tax                672105 non-null  float64\n",
      " 12  tip_amount             672105 non-null  float64\n",
      " 13  tolls_amount           672105 non-null  float64\n",
      " 14  ehail_fee              339 non-null     float64\n",
      " 15  improvement_surcharge  672105 non-null  float64\n",
      " 16  total_amount           672105 non-null  float64\n",
      " 17  payment_type           630526 non-null  float64\n",
      " 18  trip_type              630187 non-null  float64\n",
      " 19  congestion_surcharge   84527 non-null   float64\n",
      "dtypes: float64(14), int64(3), object(3)\n",
      "memory usage: 102.6+ MB\n"
     ]
    },
    {
     "name": "stderr",
     "output_type": "stream",
     "text": [
      "C:\\Users\\ADMIN\\AppData\\Local\\Temp\\ipykernel_8660\\1192845840.py:15: DtypeWarning: Columns (3) have mixed types. Specify dtype option on import or set low_memory=False.\n",
      "  df = pd.read_csv(csv_path)\n"
     ]
    }
   ],
   "source": [
    "import urllib.request\n",
    "\n",
    "output_path = \"green_tripdata_2019-01.parquet\"\n",
    "csv_path = \"green_tripdata_2019-01.csv\"\n",
    "\n",
    "import pandas as pd \n",
    "\n",
    "df = pd.read_parquet(output_path)\n",
    "df.to_csv(csv_path, index=False)\n",
    "\n",
    "df = pd.read_csv(csv_path)\n",
    "df.info()"
   ]
  },
  {
   "cell_type": "code",
   "execution_count": 2,
   "id": "f867de9f",
   "metadata": {},
   "outputs": [
    {
     "data": {
      "text/plain": [
       "np.float64(5.0)"
      ]
     },
     "execution_count": 2,
     "metadata": {},
     "output_type": "execute_result"
    }
   ],
   "source": [
    "df['passenger_count'][0]"
   ]
  }
 ],
 "metadata": {
  "kernelspec": {
   "display_name": "ml_venv_new",
   "language": "python",
   "name": "python3"
  },
  "language_info": {
   "codemirror_mode": {
    "name": "ipython",
    "version": 3
   },
   "file_extension": ".py",
   "mimetype": "text/x-python",
   "name": "python",
   "nbconvert_exporter": "python",
   "pygments_lexer": "ipython3",
   "version": "3.10.18"
  }
 },
 "nbformat": 4,
 "nbformat_minor": 5
}
